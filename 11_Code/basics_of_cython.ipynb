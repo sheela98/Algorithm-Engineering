{
 "cells": [
  {
   "cell_type": "code",
   "execution_count": 1,
   "metadata": {},
   "outputs": [],
   "source": [
    "%load_ext cython"
   ]
  },
  {
   "cell_type": "markdown",
   "metadata": {},
   "source": [
    "# Specifying C data types in Cython"
   ]
  },
  {
   "cell_type": "code",
   "execution_count": 2,
   "metadata": {},
   "outputs": [],
   "source": [
    "%%cython\n",
    "\n",
    "def f(): # nonsense function\n",
    "    cdef unsigned wonder_of_the_world = 7\n",
    "    cdef int age = 21  # years\n",
    "    cdef float height = 1.83 # metres\n",
    "    cdef long long total_debt = 18000000000000  # 18 trillion\n",
    "    cdef double milky_way_mass = 6e42  # kg\n",
    "    cdef bint valid = False # boolean in cython\n",
    "    return wonder_of_the_world + age + height + total_debt + milky_way_mass "
   ]
  },
  {
   "cell_type": "code",
   "execution_count": 3,
   "metadata": {},
   "outputs": [
    {
     "data": {
      "text/plain": [
       "6e+42"
      ]
     },
     "execution_count": 3,
     "metadata": {},
     "output_type": "execute_result"
    }
   ],
   "source": [
    "f()"
   ]
  },
  {
   "cell_type": "markdown",
   "metadata": {},
   "source": [
    "# Cython functions"
   ]
  },
  {
   "cell_type": "code",
   "execution_count": 4,
   "metadata": {},
   "outputs": [],
   "source": [
    "%%cython\n",
    "\n",
    "# pay attention to the differences of def, cdef, cpdef functions\n",
    "\n",
    "# a normal python function (can be called in python and cython)\n",
    "def f1(a, b):\n",
    "    return a + b\n",
    "\n",
    "# a normal python function with data types (can be called in python and cython)\n",
    "# can't specify return type, returns always a python object\n",
    "def f2(int a, int b):\n",
    "    return a + b\n",
    "\n",
    "# can be called only in cython (--> fast)\n",
    "cdef int f3(int a, int b):\n",
    "    return a + b\n",
    "\n",
    "# can be called in cython and python\n",
    "cpdef int f4(int a, int b):\n",
    "    return f3(a, b)"
   ]
  },
  {
   "cell_type": "code",
   "execution_count": 5,
   "metadata": {},
   "outputs": [
    {
     "name": "stdout",
     "output_type": "stream",
     "text": [
      "3\n",
      "3\n",
      "3\n"
     ]
    }
   ],
   "source": [
    "# call functions in python\n",
    "print(f1(1, 2))\n",
    "print(f2(1, 2))\n",
    "print(f4(1, 2))"
   ]
  },
  {
   "cell_type": "markdown",
   "metadata": {},
   "source": [
    "# Docstring plus call signature"
   ]
  },
  {
   "cell_type": "code",
   "execution_count": 6,
   "metadata": {},
   "outputs": [],
   "source": [
    "%%cython\n",
    "# cython: embedsignature=True\n",
    "\n",
    "def my_add(int a, int b):\n",
    "    \"\"\" This function adds two integer. \"\"\"\n",
    "    return a + b"
   ]
  },
  {
   "cell_type": "code",
   "execution_count": 7,
   "metadata": {},
   "outputs": [
    {
     "name": "stdout",
     "output_type": "stream",
     "text": [
      "Help on built-in function my_add in module _cython_magic_506ff99843adbb2d83d62c471e6e8278:\n",
      "\n",
      "my_add(...)\n",
      "    my_add(int a, int b)\n",
      "    This function adds two integer.\n",
      "\n"
     ]
    }
   ],
   "source": [
    "help(my_add)"
   ]
  },
  {
   "cell_type": "markdown",
   "metadata": {},
   "source": [
    "# Declaring built-in Python types\n",
    "May speed up execution and is good for type safety. \n",
    "\n",
    "- **data structure types**: list, tuple, dict, set, frozenset\n",
    "- **string types**: str, unicode, bytes, bytearray\n",
    "- **several other data types**: complex, array, date, time, datetime, ..."
   ]
  },
  {
   "cell_type": "code",
   "execution_count": 8,
   "metadata": {},
   "outputs": [],
   "source": [
    "%%cython\n",
    "\n",
    "def h(x, int n):\n",
    "    cdef int i\n",
    "    for i in range(n):\n",
    "        x.add(i)\n",
    "    return x\n",
    "\n",
    "def k(set x, int n): # x is a set, other types are invalid (type safety)\n",
    "    cdef int i\n",
    "    for i in range(n):\n",
    "        x.add(i)\n",
    "    return x"
   ]
  },
  {
   "cell_type": "code",
   "execution_count": 9,
   "metadata": {},
   "outputs": [
    {
     "name": "stdout",
     "output_type": "stream",
     "text": [
      "99 ms ± 1.09 ms per loop (mean ± std. dev. of 7 runs, 10 loops each)\n",
      "65.5 ms ± 499 µs per loop (mean ± std. dev. of 7 runs, 10 loops each)\n"
     ]
    }
   ],
   "source": [
    "%timeit h(set(), 1000000)\n",
    "%timeit k(set(), 1000000)"
   ]
  },
  {
   "cell_type": "markdown",
   "metadata": {},
   "source": [
    "# C-level data structures (array, struct, enum, union)"
   ]
  },
  {
   "cell_type": "code",
   "execution_count": 10,
   "metadata": {},
   "outputs": [],
   "source": [
    "%%cython\n",
    "\n",
    "cdef enum Rating:\n",
    "    BAD = 0\n",
    "    GOOD = 1\n",
    "\n",
    "cdef struct book: \n",
    "    int isbn\n",
    "    Rating rating\n",
    "    \n",
    "def getbook():\n",
    "    cdef book x\n",
    "    x.isbn = 12345\n",
    "    x.rating = GOOD\n",
    "    return x\n",
    "\n",
    "def getbooks():\n",
    "    cdef book books[2] # This is a static array\n",
    "    books[0] = getbook()\n",
    "    \n",
    "    books[1].isbn = 56789\n",
    "    books[1].rating = BAD\n",
    "    return books"
   ]
  },
  {
   "cell_type": "code",
   "execution_count": 11,
   "metadata": {},
   "outputs": [
    {
     "name": "stdout",
     "output_type": "stream",
     "text": [
      "{'isbn': 12345, 'rating': 1}\n",
      "[{'isbn': 12345, 'rating': 1}, {'isbn': 56789, 'rating': 0}]\n"
     ]
    }
   ],
   "source": [
    "print(getbook()) # cython added code to convert struct automatically to a python dictionary\n",
    "print(getbooks()) # cython added code to convert array automatically to a python list"
   ]
  },
  {
   "cell_type": "code",
   "execution_count": 12,
   "metadata": {},
   "outputs": [],
   "source": [
    "%%cython\n",
    "# cython: language_level=3\n",
    "\n",
    "cdef union transformer:\n",
    "    # these variables use the same memory block\n",
    "    long long x  # 8 bytes\n",
    "    double d     # 8 bytes also\n",
    "    \n",
    "def test():\n",
    "    cdef transformer u\n",
    "    u.d = 0.0\n",
    "    print('u.d Before: ', u.x)    \n",
    "    u.d = 1.0\n",
    "    print('u.d After : ', u.x)"
   ]
  },
  {
   "cell_type": "code",
   "execution_count": 13,
   "metadata": {},
   "outputs": [
    {
     "name": "stdout",
     "output_type": "stream",
     "text": [
      "u.d Before:  0\n",
      "u.d After :  4607182418800017408\n"
     ]
    }
   ],
   "source": [
    "test()"
   ]
  },
  {
   "cell_type": "markdown",
   "metadata": {},
   "source": [
    "# Typed memoryviews\n",
    "Memory views are useful for passing Python or Numpy arrays to Cython."
   ]
  },
  {
   "cell_type": "code",
   "execution_count": 14,
   "metadata": {},
   "outputs": [],
   "source": [
    "%%cython\n",
    "\n",
    "# data type alias\n",
    "ctypedef unsigned long long uint64 \n",
    "\n",
    "# view is a matrix\n",
    "def fill_square(uint64[:,:] view, uint64 num):\n",
    "    view[-2:,-2:] = num # slicing in two dimensions\n",
    "    \n",
    "\n",
    "# slightly faster version of fill_square\n",
    "cimport cython\n",
    "\n",
    "@cython.boundscheck(False)\n",
    "@cython.wraparound(False)\n",
    "def fill_square_loop(uint64[:,:] view, uint64 num): \n",
    "    cdef:\n",
    "        int i, j\n",
    "        int rows = view.shape[0] # amount rows\n",
    "        int columns = view.shape[1] # amount columns\n",
    "    for i in range(rows - 2, rows):\n",
    "        for j in range(columns - 2, columns):\n",
    "            view[i, j] = num\n",
    "        "
   ]
  },
  {
   "cell_type": "code",
   "execution_count": 15,
   "metadata": {},
   "outputs": [
    {
     "name": "stdout",
     "output_type": "stream",
     "text": [
      "671 ns ± 9.36 ns per loop (mean ± std. dev. of 7 runs, 1000000 loops each)\n",
      "[[0 0 0 0]\n",
      " [0 0 0 0]\n",
      " [0 0 1 1]\n",
      " [0 0 1 1]]\n",
      "611 ns ± 3.75 ns per loop (mean ± std. dev. of 7 runs, 1000000 loops each)\n",
      "[[0 0 0 0]\n",
      " [0 0 0 0]\n",
      " [0 0 2 2]\n",
      " [0 0 2 2]]\n"
     ]
    }
   ],
   "source": [
    "import numpy\n",
    "x = numpy.zeros(shape=(4, 4), dtype=numpy.uint64)\n",
    "%timeit fill_square(x, 1)\n",
    "print(x)\n",
    "%timeit fill_square_loop(x, 2)\n",
    "print(x) "
   ]
  },
  {
   "cell_type": "markdown",
   "metadata": {},
   "source": [
    "# Passing Python strings, working with C strings"
   ]
  },
  {
   "cell_type": "code",
   "execution_count": 16,
   "metadata": {},
   "outputs": [],
   "source": [
    "%%cython\n",
    "\n",
    "# in python 3 it is not allowed to assign python strings directly to C strings\n",
    "def f(str text):\n",
    "    cdef char *s \n",
    "    bstr = text.encode('utf-8') # we must encode to bytes the string\n",
    "    s = bstr\n",
    "    print(s)\n",
    "    \n",
    "def fb(bytes text): # passing a bytes object directly\n",
    "    cdef char *s = text\n",
    "    print(s)  \n",
    "    \n",
    "# just use python strings inside cython (fast enough)\n",
    "def fs(str text):\n",
    "    print(text)"
   ]
  },
  {
   "cell_type": "code",
   "execution_count": 17,
   "metadata": {},
   "outputs": [
    {
     "name": "stdout",
     "output_type": "stream",
     "text": [
      "b'cat'\n",
      "b'dog'\n",
      "mini pig\n"
     ]
    }
   ],
   "source": [
    "f(\"cat\")\n",
    "fb(b\"dog\")\n",
    "fs(\"mini pig\")"
   ]
  },
  {
   "cell_type": "markdown",
   "metadata": {},
   "source": [
    "# Passing a pointer into a function"
   ]
  },
  {
   "cell_type": "code",
   "execution_count": 18,
   "metadata": {},
   "outputs": [],
   "source": [
    "%%cython\n",
    "# cython: language_level=3\n",
    "\n",
    "cdef f(int* px):\n",
    "    px[0] += 1 # de-reference with array access\n",
    "    \n",
    "def g():\n",
    "    cdef int x = 0 \n",
    "    cdef int* px =  &x\n",
    "    print('Before calling f: x is', x)\n",
    "    f(px)\n",
    "    print('After calling f: x is', x)"
   ]
  },
  {
   "cell_type": "code",
   "execution_count": 19,
   "metadata": {},
   "outputs": [
    {
     "name": "stdout",
     "output_type": "stream",
     "text": [
      "Before calling f: x is 0\n",
      "After calling f: x is 1\n"
     ]
    }
   ],
   "source": [
    "g()"
   ]
  },
  {
   "cell_type": "markdown",
   "metadata": {},
   "source": [
    "# Type-casting"
   ]
  },
  {
   "cell_type": "code",
   "execution_count": 20,
   "metadata": {},
   "outputs": [],
   "source": [
    "%%cython\n",
    "\n",
    "def h():\n",
    "    x = ['a', 'b', 'c']\n",
    "    \n",
    "    # casting in cython is done with angle brackets\n",
    "    cdef void* p = <void*>x  # get a void pointer to the python object\n",
    "    \n",
    "    # the memory address is the same as the object id()\n",
    "    print(<long>p)\n",
    "    print(id(x))\n",
    "    \n",
    "    # by type-casting to <object>, you can get the original python object back\n",
    "    print(<object>p)"
   ]
  },
  {
   "cell_type": "code",
   "execution_count": 21,
   "metadata": {},
   "outputs": [
    {
     "name": "stdout",
     "output_type": "stream",
     "text": [
      "140684758768456\n",
      "140684758768456\n",
      "['a', 'b', 'c']\n"
     ]
    }
   ],
   "source": [
    "h()"
   ]
  }
 ],
 "metadata": {
  "kernelspec": {
   "display_name": "Python 3",
   "language": "python",
   "name": "python3"
  },
  "language_info": {
   "codemirror_mode": {
    "name": "ipython",
    "version": 3
   },
   "file_extension": ".py",
   "mimetype": "text/x-python",
   "name": "python",
   "nbconvert_exporter": "python",
   "pygments_lexer": "ipython3",
   "version": "3.7.3"
  }
 },
 "nbformat": 4,
 "nbformat_minor": 2
}
