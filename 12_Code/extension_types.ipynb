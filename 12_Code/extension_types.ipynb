{
 "cells": [
  {
   "cell_type": "code",
   "execution_count": 1,
   "metadata": {},
   "outputs": [],
   "source": [
    "%load_ext cython"
   ]
  },
  {
   "cell_type": "markdown",
   "metadata": {},
   "source": [
    "# Python vs Cython classes"
   ]
  },
  {
   "cell_type": "code",
   "execution_count": 2,
   "metadata": {},
   "outputs": [],
   "source": [
    "class Py_Student: # python class\n",
    "    def __init__(self, name, weight, height):\n",
    "        self.name = name\n",
    "        self.weight = weight # in kg\n",
    "        self.height = height # in m\n",
    "    def get_bmi(self):\n",
    "        return self.weight / (self.height * self.height)"
   ]
  },
  {
   "cell_type": "code",
   "execution_count": 3,
   "metadata": {},
   "outputs": [],
   "source": [
    "%%cython\n",
    "\n",
    "cdef class Cy_Student: # cython class\n",
    "    cdef:\n",
    "        str name\n",
    "        public double weight # in kg\n",
    "        double height # in m\n",
    "    def __init__(self, name, weight, height):\n",
    "        self.name = name\n",
    "        self.weight = weight \n",
    "        self.height = height\n",
    "    def get_bmi(self): # methods can be def, cdef or cpdef\n",
    "        return self.weight / (self.height * self.height)"
   ]
  },
  {
   "cell_type": "code",
   "execution_count": 4,
   "metadata": {},
   "outputs": [
    {
     "name": "stdout",
     "output_type": "stream",
     "text": [
      "33.95061728395061\n",
      "185.53688823959092\n"
     ]
    }
   ],
   "source": [
    "py_student = Py_Student(\"Hans\", 110, 1.80) # create an instance from python class\n",
    "cy_student = Cy_Student(\"Jon\", 635, 1.85) # create an instance from cython class\n",
    "print(py_student.get_bmi())\n",
    "print(cy_student.get_bmi())"
   ]
  },
  {
   "cell_type": "code",
   "execution_count": 5,
   "metadata": {},
   "outputs": [
    {
     "name": "stdout",
     "output_type": "stream",
     "text": [
      "254 ns ± 2.25 ns per loop (mean ± std. dev. of 7 runs, 1000000 loops each)\n",
      "64.7 ns ± 0.314 ns per loop (mean ± std. dev. of 7 runs, 10000000 loops each)\n"
     ]
    }
   ],
   "source": [
    "# compare speed of method calls from python\n",
    "%timeit py_student.get_bmi()\n",
    "%timeit cy_student.get_bmi()"
   ]
  },
  {
   "cell_type": "code",
   "execution_count": 6,
   "metadata": {},
   "outputs": [
    {
     "name": "stdout",
     "output_type": "stream",
     "text": [
      "429 ns ± 9.05 ns per loop (mean ± std. dev. of 7 runs, 1000000 loops each)\n",
      "138 ns ± 0.83 ns per loop (mean ± std. dev. of 7 runs, 10000000 loops each)\n"
     ]
    }
   ],
   "source": [
    "# compare speed of creating objects\n",
    "%timeit Py_Student(\"Kira\", 55, 1.65)\n",
    "%timeit Cy_Student(\"Lisa\", 60, 1.75)"
   ]
  },
  {
   "cell_type": "markdown",
   "metadata": {},
   "source": [
    "Python places an object’s data inside an internal instance dictionary named \\_\\_dict__"
   ]
  },
  {
   "cell_type": "code",
   "execution_count": 7,
   "metadata": {},
   "outputs": [
    {
     "name": "stdout",
     "output_type": "stream",
     "text": [
      "{'name': 'Hans', 'weight': 110, 'height': 1.8}\n"
     ]
    }
   ],
   "source": [
    "print(py_student.__dict__)"
   ]
  },
  {
   "cell_type": "markdown",
   "metadata": {},
   "source": [
    "In an extension type, the object’s data resides similar to C inside a struct"
   ]
  },
  {
   "cell_type": "code",
   "execution_count": 8,
   "metadata": {},
   "outputs": [
    {
     "name": "stdout",
     "output_type": "stream",
     "text": [
      "635.0\n"
     ]
    }
   ],
   "source": [
    "print(cy_student.weight)\n",
    "# print(cy_student.__dict__) # fails --> object has no attribute '__dict__'"
   ]
  },
  {
   "cell_type": "markdown",
   "metadata": {},
   "source": [
    "# \\_\\_cinit__ and \\_\\_dealloc__"
   ]
  },
  {
   "cell_type": "code",
   "execution_count": 9,
   "metadata": {},
   "outputs": [],
   "source": [
    "%%cython\n",
    "\n",
    "from libc.stdlib cimport realloc, free \n",
    "\n",
    "cdef class Vector:\n",
    "    cdef:\n",
    "        double *vec          # array of doubles\n",
    "        public double[:] mv  # memory view, public --> can modify from python\n",
    "\n",
    "    def __cinit__(self, long length): # constructor for any C-level initialization or memory allocation\n",
    "        self.change_length(length)    # __cinit__ is called only once before __init__\n",
    "        \n",
    "    cpdef change_length(self, long new_length): # resize the vector\n",
    "        self.vec = <double*>realloc(self.vec, new_length * sizeof(double)) # resize dynamic C-array\n",
    "        self.mv = <double[:new_length]>self.vec # sets up a memory view for a dynamic C array\n",
    "        \n",
    "    def __dealloc__(self): # similar to a destructor in C++\n",
    "        free(self.vec)  # free memory"
   ]
  },
  {
   "cell_type": "code",
   "execution_count": 10,
   "metadata": {},
   "outputs": [
    {
     "name": "stdout",
     "output_type": "stream",
     "text": [
      "[1.0, 1.0]\n",
      "2\n",
      "[1.0, 1.0, 2.0, 2.0]\n"
     ]
    }
   ],
   "source": [
    "# usage in python of custom Vector extension type\n",
    "vec = Vector(2) # create a vector of length 2\n",
    "vec.mv[0:2] = 1.0\n",
    "print(list(vec.mv)) # [1.0, 1.0]\n",
    "print(vec.mv.shape[0]) # 2\n",
    "vec.change_length(4)  # change length of vector to 4\n",
    "vec.mv[2:4] = 2.0 \n",
    "print(list(vec.mv)) # [1.0, 1.0, 2.0, 2.0]"
   ]
  }
 ],
 "metadata": {
  "kernelspec": {
   "display_name": "Python 3",
   "language": "python",
   "name": "python3"
  },
  "language_info": {
   "codemirror_mode": {
    "name": "ipython",
    "version": 3
   },
   "file_extension": ".py",
   "mimetype": "text/x-python",
   "name": "python",
   "nbconvert_exporter": "python",
   "pygments_lexer": "ipython3",
   "version": "3.7.3"
  }
 },
 "nbformat": 4,
 "nbformat_minor": 2
}
